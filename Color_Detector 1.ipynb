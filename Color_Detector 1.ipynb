{
  "cells": [
    {
      "cell_type": "code",
      "execution_count": null,
      "metadata": {
        "colab": {
          "base_uri": "https://localhost:8080/"
        },
        "id": "kxrmWPCWVFJa",
        "outputId": "24408196-8b51-492b-a6ad-e7ec69f61a47"
      },
      "outputs": [
        {
          "name": "stdout",
          "output_type": "stream",
          "text": [
            "Requirement already satisfied: opencv-python in /usr/local/lib/python3.10/dist-packages (4.8.0.76)\n",
            "Requirement already satisfied: numpy in /usr/local/lib/python3.10/dist-packages (1.23.5)\n",
            "Requirement already satisfied: pandas in /usr/local/lib/python3.10/dist-packages (1.5.3)\n",
            "Requirement already satisfied: python-dateutil>=2.8.1 in /usr/local/lib/python3.10/dist-packages (from pandas) (2.8.2)\n",
            "Requirement already satisfied: pytz>=2020.1 in /usr/local/lib/python3.10/dist-packages (from pandas) (2023.3)\n",
            "Requirement already satisfied: six>=1.5 in /usr/local/lib/python3.10/dist-packages (from python-dateutil>=2.8.1->pandas) (1.16.0)\n"
          ]
        }
      ],
      "source": [
        " !pip install opencv-python numpy pandas"
      ]
    },
    {
      "cell_type": "code",
      "execution_count": null,
      "metadata": {
        "colab": {
          "base_uri": "https://localhost:8080/",
          "height": 183
        },
        "id": "DCAvX9a7ZarS",
        "outputId": "83bf6186-3e71-4404-c102-0e306183e714"
      },
      "outputs": [
        {
          "name": "stdout",
          "output_type": "stream",
          "text": [
            "Collecting argparse\n",
            "  Downloading argparse-1.4.0-py2.py3-none-any.whl (23 kB)\n",
            "Installing collected packages: argparse\n",
            "Successfully installed argparse-1.4.0\n"
          ]
        },
        {
          "data": {
            "application/vnd.colab-display-data+json": {
              "pip_warning": {
                "packages": [
                  "argparse"
                ]
              }
            }
          },
          "metadata": {},
          "output_type": "display_data"
        }
      ],
      "source": [
        "!pip install argparse"
      ]
    },
    {
      "cell_type": "code",
      "execution_count": null,
      "metadata": {
        "id": "yUHxqRf-W4j_"
      },
      "outputs": [],
      "source": [
        "import cv2\n",
        "import numpy as np\n",
        "import pandas as pd\n",
        "import argparse"
      ]
    },
    {
      "cell_type": "code",
      "execution_count": null,
      "metadata": {
        "id": "GLDLEY8MX769"
      },
      "outputs": [],
      "source": [
        "import argparse\n",
        "parser = argparse.ArgumentParser()\n",
        "parser.add_argument('-i', '--image', required=True, help=\"Image Path\")\n",
        "args = parser.parse_args(['-i', '/content/drive/My Drive/Color_Detection/colorpic.jpg'])\n",
        "args = parser.parse_args(['-i', '/content/drive/My Drive/Color_Detection/colorpic.jpg'])\n"
      ]
    },
    {
      "cell_type": "code",
      "execution_count": null,
      "metadata": {
        "colab": {
          "base_uri": "https://localhost:8080/"
        },
        "id": "jWsfGNHyasS9",
        "outputId": "f3e3361d-c4b2-42da-cdf1-d641976566bd"
      },
      "outputs": [
        {
          "name": "stdout",
          "output_type": "stream",
          "text": [
            "Mounted at /content/drive\n"
          ]
        }
      ],
      "source": [
        "from google.colab import drive\n",
        "drive.mount('/content/drive')\n"
      ]
    },
    {
      "cell_type": "code",
      "execution_count": null,
      "metadata": {
        "id": "oa41XJQiauWQ"
      },
      "outputs": [],
      "source": [
        "img_path = args.image"
      ]
    },
    {
      "cell_type": "code",
      "execution_count": null,
      "metadata": {
        "id": "Aprisj_vbo_i"
      },
      "outputs": [],
      "source": [
        "img = cv2.imread(img_path)"
      ]
    },
    {
      "cell_type": "code",
      "execution_count": null,
      "metadata": {
        "id": "NfrhS2AzbxhP"
      },
      "outputs": [],
      "source": [
        "clicked = False\n",
        "r = g = b = xpos = ypos = 0"
      ]
    },
    {
      "cell_type": "code",
      "execution_count": null,
      "metadata": {
        "id": "9XGnWrQqb7Qg"
      },
      "outputs": [],
      "source": [
        "index = [\"color\", \"color_name\", \"hex\", \"R\",\"G\",\"B\"]\n",
        "csv = pd.read_csv('/content/drive/My Drive/Color_Detection/colors.csv', names=index, header = None)"
      ]
    },
    {
      "cell_type": "code",
      "execution_count": null,
      "metadata": {
        "id": "HVe4O8oDcYuU"
      },
      "outputs": [],
      "source": [
        "def getColorName(R,G,B):\n",
        "  minimum = 10000\n",
        "  for i in range(len(csv)):\n",
        "    d = abs(R- int(csv.loc[i,\"R\"])) + abs(G- int(csv.loc[i,\"G\"])) + abs(B- int(csv.loc[i,\"B\"]))\n",
        "    if(d<=minimum):\n",
        "      minimum = d\n",
        "      cname = csv.loc[i, \"color_name\"]\n",
        "  return cname"
      ]
    },
    {
      "cell_type": "code",
      "execution_count": null,
      "metadata": {
        "id": "4ZlyYtkMdWQ-"
      },
      "outputs": [],
      "source": [
        "def draw_function(event, x, y, flags, param):\n",
        "  if event == cv2.EVENT_LBUTTONDBLCLK:\n",
        "    global b,g,r,xpos,ypos, clicked\n",
        "    clicked =True\n",
        "    xpos = x\n",
        "    ypos = y\n",
        "    b,g,r = img[y,x]\n",
        "    b = int(b)\n",
        "    g = int(g)\n",
        "    r = int(r)"
      ]
    },
    {
      "cell_type": "code",
      "execution_count": null,
      "metadata": {
        "id": "jGHRCDe7d29Y"
      },
      "outputs": [],
      "source": [
        "# cv2.namedWindow('image')\n",
        "# cv2.setMouseCallback('image', draw_function)"
      ]
    },
    {
      "cell_type": "code",
      "execution_count": null,
      "metadata": {
        "id": "Op36oKHwf6bg"
      },
      "outputs": [],
      "source": [
        "from google.colab.patches import cv2_imshow\n",
        "import cv2"
      ]
    },
    {
      "cell_type": "code",
      "execution_count": null,
      "metadata": {
        "colab": {
          "base_uri": "https://localhost:8080/",
          "height": 1000
        },
        "id": "aMid9SzieD2J",
        "outputId": "dc91f3aa-da7c-4c42-8f26-64ddb1233111"
      },
      "outputs": [],
      "source": [
        "while(1):\n",
        "    cv2_imshow(img)\n",
        "    if (clicked):\n",
        "        #cv2.rectangle(image, startpoint, endpoint, color, thickness) -1 thickness fills rectangle entirely\n",
        "        cv2.rectangle(img,(20,20), (750,60), (b,g,r), -1)\n",
        "        #Creating text string to display ( Color name and RGB values )\n",
        "        text = getColorName(r,g,b) + ' R='+ str(r) + ' G='+ str(g) + ' B='+ str(b)\n",
        "        #cv2.putText(img,text,start,font(0-7), fontScale, color, thickness, lineType, (optional bottomLeft bool) )\n",
        "        cv2.putText(img, text,(50,50),2,0.8,(255,255,255),2,cv2.LINE_AA)\n",
        "  #For very light colours we will display text in black colour\n",
        "        if(r+g+b>=600):\n",
        "            cv2.putText(img, text,(50,50),2,0.8,(0,0,0),2,cv2.LINE_AA)\n",
        "        clicked=False\n",
        "    #Break the loop when user hits 'esc' key\n",
        "    if cv2.waitKey(20) & 0xFF ==27:\n",
        "        break\n",
        "cv2.destroyAllWindows()"
      ]
    },
    {
      "cell_type": "code",
      "execution_count": null,
      "metadata": {
        "id": "Q0wdDxYgf7mq"
      },
      "outputs": [],
      "source": []
    }
  ],
  "metadata": {
    "accelerator": "GPU",
    "colab": {
      "gpuType": "T4",
      "provenance": []
    },
    "kernelspec": {
      "display_name": "Python 3",
      "name": "python3"
    },
    "language_info": {
      "name": "python"
    }
  },
  "nbformat": 4,
  "nbformat_minor": 0
}
